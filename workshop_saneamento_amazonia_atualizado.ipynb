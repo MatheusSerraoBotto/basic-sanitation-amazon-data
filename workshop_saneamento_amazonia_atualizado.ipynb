{
 "cells": [
  {
   "cell_type": "markdown",
   "id": "84df075a",
   "metadata": {},
   "source": [
    "# 💧 Workshop de Análise de Dados de Saneamento na Região Amazônica\n",
    "\n",
    "Neste notebook, vamos analisar dados públicos sobre saneamento básico em municípios da região amazônica brasileira. Exploraremos os dados com gráficos e mapas interativos usando Pydeck.\n"
   ]
  },
  {
   "cell_type": "code",
   "execution_count": null,
   "id": "c722b471",
   "metadata": {},
   "outputs": [],
   "source": [
    "!pip install pydeck geopandas matplotlib seaborn pandas"
   ]
  },
  {
   "cell_type": "code",
   "execution_count": null,
   "id": "8198d51f",
   "metadata": {},
   "outputs": [],
   "source": [
    "import pandas as pd\n",
    "\n",
    "df = pd.read_csv(\"cities7.csv\")\n",
    "df.head()"
   ]
  },
  {
   "cell_type": "code",
   "execution_count": null,
   "id": "3ad48540",
   "metadata": {},
   "outputs": [],
   "source": [
    "df.info()\n",
    "df.describe()\n",
    "df.columns"
   ]
  },
  {
   "cell_type": "code",
   "execution_count": null,
   "id": "c333d9d3",
   "metadata": {},
   "outputs": [],
   "source": [
    "df_amazonia = df[df['Amazonia'] == 'Sim'].copy()\n",
    "df_amazonia.shape\n",
    "df_amazonia.head()"
   ]
  },
  {
   "cell_type": "code",
   "execution_count": null,
   "id": "8c486c4f",
   "metadata": {},
   "outputs": [],
   "source": [
    "import pydeck as pdk\n",
    "\n",
    "df_mapa = df_amazonia[\n",
    "    ['Cidade', 'Latitude', 'Longitude', 'Parcela da população com acesso à água']\n",
    "].dropna()\n",
    "\n",
    "layer = pdk.Layer(\n",
    "    \"ScatterplotLayer\",\n",
    "    data=df_mapa,\n",
    "    get_position='[Longitude, Latitude]',\n",
    "    get_fill_color='[255, 100 * Parcela da população com acesso à água, 100, 180]',\n",
    "    get_radius=10000,\n",
    "    pickable=True\n",
    ")\n",
    "\n",
    "view_state = pdk.ViewState(latitude=-4.5, longitude=-60, zoom=4.2)\n",
    "\n",
    "deck = pdk.Deck(\n",
    "    layers=[layer],\n",
    "    initial_view_state=view_state,\n",
    "    tooltip={\"text\": \"{Cidade}\\nAcesso à água: {Parcela da população com acesso à água}%\"}\n",
    ")\n",
    "\n",
    "deck.show()"
   ]
  },
  {
   "cell_type": "code",
   "execution_count": null,
   "id": "b174750c",
   "metadata": {},
   "outputs": [],
   "source": [
    "import pydeck as pdk\n",
    "\n",
    "# 2014 locations of car accidents in the UK\n",
    "UK_ACCIDENTS_DATA = ('https://raw.githubusercontent.com/uber-common/'\n",
    "                     'deck.gl-data/master/examples/3d-heatmap/heatmap-data.csv')\n",
    "\n",
    "# Define a layer to display on a map\n",
    "layer = pdk.Layer(\n",
    "    'HexagonLayer',\n",
    "    UK_ACCIDENTS_DATA,\n",
    "    get_position=['lng', 'lat'],\n",
    "    auto_highlight=True,\n",
    "    elevation_scale=50,\n",
    "    pickable=True,\n",
    "    elevation_range=[0, 3000],\n",
    "    extruded=True,                 \n",
    "    coverage=1)\n",
    "\n",
    "# Set the viewport location\n",
    "view_state = pdk.ViewState(\n",
    "    longitude=-1.415,\n",
    "    latitude=52.2323,\n",
    "    zoom=6,\n",
    "    min_zoom=5,\n",
    "    max_zoom=15,\n",
    "    pitch=40.5,\n",
    "    bearing=-27.36)\n",
    "\n",
    "# Render\n",
    "r = pdk.Deck(layers=[layer], initial_view_state=view_state)\n",
    "r.to_html('demo.html')"
   ]
  },
  {
   "cell_type": "code",
   "execution_count": null,
   "id": "aab0763f",
   "metadata": {},
   "outputs": [],
   "source": [
    "import matplotlib.pyplot as plt\n",
    "import seaborn as sns\n",
    "\n",
    "plt.figure(figsize=(10, 6))\n",
    "sns.histplot(df_amazonia['Parcela da população sem coleta de esgoto'], bins=20, kde=True)\n",
    "plt.title('Distribuição da população sem coleta de esgoto (%)')\n",
    "plt.xlabel('Parcela da população sem coleta de esgoto (%)')\n",
    "plt.ylabel('Número de Municípios')\n",
    "plt.grid(True)\n",
    "plt.show()"
   ]
  },
  {
   "cell_type": "code",
   "execution_count": null,
   "id": "1bae6c47",
   "metadata": {},
   "outputs": [],
   "source": [
    "plt.figure(figsize=(10, 6))\n",
    "sns.scatterplot(\n",
    "    data=df_amazonia,\n",
    "    x='Parcela da população sem coleta de esgoto',\n",
    "    y='Incidência de internações por diarreia',\n",
    "    hue='Estado'\n",
    ")\n",
    "plt.title('Internações por diarreia vs. Falta de Coleta de Esgoto')\n",
    "plt.xlabel('Parcela da população sem coleta de esgoto (%)')\n",
    "plt.ylabel('Internações por diarreia (por 10 mil hab.)')\n",
    "plt.legend(loc='upper right')\n",
    "plt.grid(True)"
   ]
  },
  {
   "cell_type": "markdown",
   "id": "c8b785b3",
   "metadata": {},
   "source": [
    "\n",
    "## 🌍 Visualizações Interativas com Pydeck\n",
    "\n",
    "A seguir, visualizações em 3D com Pydeck que destacam relações espaciais e estruturais dos indicadores de saneamento básico e saúde pública na região Amazônica.\n"
   ]
  },
  {
   "cell_type": "code",
   "execution_count": null,
   "id": "a260d7bb",
   "metadata": {},
   "outputs": [],
   "source": [
    "\n",
    "import pydeck as pdk\n",
    "\n",
    "# Exemplo de visualização 3D: Acesso à água vs internações por diarreia\n",
    "\n",
    "df_plot = df.copy()\n",
    "df_plot = df_plot.dropna(subset=[\"Latitude\", \"Longitude\", \"Parcela da população com acesso à água\", \"Incidência de internações por diarreia\"])\n",
    "\n",
    "layer = pdk.Layer(\n",
    "    \"ColumnLayer\",\n",
    "    data=df_plot,\n",
    "    get_position='[Longitude, Latitude]',\n",
    "    get_elevation=\"`Incidência de internações por diarreia` * 100\",\n",
    "    elevation_scale=1,\n",
    "    radius=3000,\n",
    "    get_fill_color=\"[255 - `Parcela da população com acesso à água` * 2, `Parcela da população com acesso à água` * 2, 100]\",\n",
    "    pickable=True,\n",
    "    auto_highlight=True,\n",
    ")\n",
    "\n",
    "view_state = pdk.ViewState(\n",
    "    longitude=df_plot[\"Longitude\"].mean(),\n",
    "    latitude=df_plot[\"Latitude\"].mean(),\n",
    "    zoom=4,\n",
    "    pitch=45,\n",
    ")\n",
    "\n",
    "r = pdk.Deck(layers=[layer], initial_view_state=view_state, tooltip={\"text\": \"Cidade: {Cidade}\\nAcesso à água: {Parcela da população com acesso à água}%\\nInternações por diarreia: {Incidência de internações por diarreia}\"})\n",
    "r.show()\n"
   ]
  },
  {
   "cell_type": "code",
   "execution_count": null,
   "id": "8f93a48d",
   "metadata": {},
   "outputs": [],
   "source": [
    "\n",
    "# Exemplo de visualização 3D: Coleta de esgoto vs densidade demográfica\n",
    "\n",
    "df_plot = df.copy()\n",
    "df_plot = df_plot.dropna(subset=[\"Latitude\", \"Longitude\", \"Parcela da população com coleta de esgoto\", \"Densidade demográfica\"])\n",
    "\n",
    "layer = pdk.Layer(\n",
    "    \"ColumnLayer\",\n",
    "    data=df_plot,\n",
    "    get_position='[Longitude, Latitude]',\n",
    "    get_elevation=\"`Densidade demográfica` * 10\",\n",
    "    elevation_scale=1,\n",
    "    radius=3000,\n",
    "    get_fill_color=\"[255 - `Parcela da população com coleta de esgoto` * 2, `Parcela da população com coleta de esgoto` * 2, 120]\",\n",
    "    pickable=True,\n",
    "    auto_highlight=True,\n",
    ")\n",
    "\n",
    "view_state = pdk.ViewState(\n",
    "    longitude=df_plot[\"Longitude\"].mean(),\n",
    "    latitude=df_plot[\"Latitude\"].mean(),\n",
    "    zoom=4,\n",
    "    pitch=50,\n",
    ")\n",
    "\n",
    "r = pdk.Deck(layers=[layer], initial_view_state=view_state, tooltip={\"text\": \"Cidade: {Cidade}\\nColeta de esgoto: {Parcela da população com coleta de esgoto}%\\nDensidade demográfica: {Densidade demográfica}\"})\n",
    "r.show()\n"
   ]
  },
  {
   "cell_type": "markdown",
   "id": "722b1aa7",
   "metadata": {},
   "source": [
    "## 🔍 Atividade\n",
    "\n",
    "Escolha uma variável que você acha relevante para a qualidade do saneamento básico (ex: **Moradias sem banheiro**, **Perdas na distribuição**, **Tarifa de água**) e:\n",
    "\n",
    "1. Crie um gráfico com `seaborn` ou `matplotlib` para analisar sua distribuição.\n",
    "2. Crie um mapa com `pydeck` para visualizar espacialmente essa variável.\n",
    "3. Compartilhe com os colegas suas descobertas.\n"
   ]
  }
 ],
 "metadata": {
  "kernelspec": {
   "display_name": ".venv",
   "language": "python",
   "name": "python3"
  },
  "language_info": {
   "codemirror_mode": {
    "name": "ipython",
    "version": 3
   },
   "file_extension": ".py",
   "mimetype": "text/x-python",
   "name": "python",
   "nbconvert_exporter": "python",
   "pygments_lexer": "ipython3",
   "version": "3.8.20"
  }
 },
 "nbformat": 4,
 "nbformat_minor": 5
}
